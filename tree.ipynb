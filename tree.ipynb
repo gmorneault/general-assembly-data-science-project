{
 "metadata": {
  "name": "",
  "signature": "sha256:67f15e5dddbf9537a591f5685aa6b2243d7c66fe1a9bb0709f58685e502e5072"
 },
 "nbformat": 3,
 "nbformat_minor": 0,
 "worksheets": [
  {
   "cells": [
    {
     "cell_type": "code",
     "collapsed": false,
     "input": [
      "%run import_clean_data.ipynb"
     ],
     "language": "python",
     "metadata": {},
     "outputs": [],
     "prompt_number": 88
    },
    {
     "cell_type": "heading",
     "level": 1,
     "metadata": {},
     "source": [
      "Define Dataset"
     ]
    },
    {
     "cell_type": "code",
     "collapsed": true,
     "input": [
      "tree_df = loanStats.dropna(subset=['grade_category'])\n",
      "tree_df.revol_util[tree_df.revol_util.isnull()] = 0\n",
      "tree_col = ['grade_category', 'fico_range_high', 'int_rate', 'dti', 'funded_amnt',\n",
      "            'total_acc', 'annual_inc', 'revol_util', 'home_ownership_encode',\n",
      "            'purpose_refi', 'is_inc_v_encode', 'emp_length_num', 'vintage']\n",
      "tree_df = tree_df[tree_col]"
     ],
     "language": "python",
     "metadata": {},
     "outputs": [],
     "prompt_number": 89
    },
    {
     "cell_type": "heading",
     "level": 4,
     "metadata": {},
     "source": [
      "Set X and y values"
     ]
    },
    {
     "cell_type": "code",
     "collapsed": false,
     "input": [
      "y = tree_df['grade_category']\n",
      "X_columns = tree_df.columns.drop('grade_category')\n",
      "X = tree_df[X_columns]"
     ],
     "language": "python",
     "metadata": {},
     "outputs": [],
     "prompt_number": 55
    },
    {
     "cell_type": "heading",
     "level": 1,
     "metadata": {},
     "source": [
      "Train Model"
     ]
    },
    {
     "cell_type": "code",
     "collapsed": false,
     "input": [
      "from sklearn import cross_validation\n",
      "X_train, X_test, y_train, y_test = cross_validation.train_test_split(X, y, test_size=0.25, random_state=0)"
     ],
     "language": "python",
     "metadata": {},
     "outputs": [],
     "prompt_number": 77
    },
    {
     "cell_type": "code",
     "collapsed": false,
     "input": [
      "from sklearn.tree import DecisionTreeClassifier\n",
      "model = DecisionTreeClassifier(criterion='entropy', max_depth = 5)\n",
      "model.fit(X_train,y_train)\n",
      "preds = model.predict(X_test)\n",
      "y_score = model.predict_proba(X_test)"
     ],
     "language": "python",
     "metadata": {},
     "outputs": [],
     "prompt_number": 87
    },
    {
     "cell_type": "heading",
     "level": 1,
     "metadata": {},
     "source": [
      "Compute Metrics"
     ]
    },
    {
     "cell_type": "code",
     "collapsed": false,
     "input": [
      "from sklearn import metrics"
     ],
     "language": "python",
     "metadata": {},
     "outputs": []
    },
    {
     "cell_type": "heading",
     "level": 4,
     "metadata": {},
     "source": [
      "Confusion Matrix"
     ]
    },
    {
     "cell_type": "code",
     "collapsed": false,
     "input": [
      "pd.DataFrame(metrics.confusion_matrix(y_test, preds),\n",
      "             index=['Actual High Grade', 'Actual Medium Grade', 'Actual Low Grade'],\n",
      "             columns=['Predicted High Grade', 'Predicted Medium Grade', 'Predicted Low Grade'])"
     ],
     "language": "python",
     "metadata": {},
     "outputs": [
      {
       "html": [
        "<div style=\"max-height:1000px;max-width:1500px;overflow:auto;\">\n",
        "<table border=\"1\" class=\"dataframe\">\n",
        "  <thead>\n",
        "    <tr style=\"text-align: right;\">\n",
        "      <th></th>\n",
        "      <th>Predicted High Grade</th>\n",
        "      <th>Predicted Medium Grade</th>\n",
        "      <th>Predicted Low Grade</th>\n",
        "    </tr>\n",
        "  </thead>\n",
        "  <tbody>\n",
        "    <tr>\n",
        "      <th>Actual High Grade</th>\n",
        "      <td> 37580</td>\n",
        "      <td>  1206</td>\n",
        "      <td>    0</td>\n",
        "    </tr>\n",
        "    <tr>\n",
        "      <th>Actual Medium Grade</th>\n",
        "      <td>   974</td>\n",
        "      <td> 34051</td>\n",
        "      <td>    0</td>\n",
        "    </tr>\n",
        "    <tr>\n",
        "      <th>Actual Low Grade</th>\n",
        "      <td>     0</td>\n",
        "      <td>  1491</td>\n",
        "      <td> 7302</td>\n",
        "    </tr>\n",
        "  </tbody>\n",
        "</table>\n",
        "</div>"
       ],
       "metadata": {},
       "output_type": "pyout",
       "prompt_number": 83,
       "text": [
        "                     Predicted High Grade  Predicted Medium Grade  \\\n",
        "Actual High Grade                   37580                    1206   \n",
        "Actual Medium Grade                   974                   34051   \n",
        "Actual Low Grade                        0                    1491   \n",
        "\n",
        "                     Predicted Low Grade  \n",
        "Actual High Grade                      0  \n",
        "Actual Medium Grade                    0  \n",
        "Actual Low Grade                    7302  "
       ]
      }
     ],
     "prompt_number": 83
    },
    {
     "cell_type": "heading",
     "level": 4,
     "metadata": {},
     "source": [
      "Classification Report"
     ]
    },
    {
     "cell_type": "code",
     "collapsed": false,
     "input": [
      "print metrics.classification_report(y_test, preds)"
     ],
     "language": "python",
     "metadata": {},
     "outputs": [
      {
       "output_type": "stream",
       "stream": "stdout",
       "text": [
        "             precision    recall  f1-score   support\n",
        "\n",
        "        0.0       0.97      0.97      0.97     38786\n",
        "        1.0       0.93      0.97      0.95     35025\n",
        "        2.0       1.00      0.83      0.91      8793\n",
        "\n",
        "avg / total       0.96      0.96      0.96     82604\n",
        "\n"
       ]
      }
     ],
     "prompt_number": 84
    },
    {
     "cell_type": "heading",
     "level": 1,
     "metadata": {},
     "source": [
      "Display Tree"
     ]
    },
    {
     "cell_type": "code",
     "collapsed": false,
     "input": [
      "dotfile = open(\"visual.dot\",\"w\")\n",
      "dotfile = tree.export_graphviz(model, out_file = dotfile, feature_names=X_columns)\n",
      "dotfile.close()\n",
      "system(\"dot -Tpng visual.dot -o tree.png\")"
     ],
     "language": "python",
     "metadata": {},
     "outputs": [
      {
       "metadata": {},
       "output_type": "pyout",
       "prompt_number": 85,
       "text": [
        "0"
       ]
      }
     ],
     "prompt_number": 85
    }
   ],
   "metadata": {}
  }
 ]
}