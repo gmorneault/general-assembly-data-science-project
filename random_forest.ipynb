{
 "metadata": {
  "name": "",
  "signature": "sha256:62aef82fe42e9bf77c04b639a0b340ea51f897210f6295cca7c94c271037c2d7"
 },
 "nbformat": 3,
 "nbformat_minor": 0,
 "worksheets": [
  {
   "cells": [
    {
     "cell_type": "code",
     "collapsed": false,
     "input": [
      "%run import_clean_data.ipynb"
     ],
     "language": "python",
     "metadata": {},
     "outputs": [],
     "prompt_number": 26
    },
    {
     "cell_type": "heading",
     "level": 1,
     "metadata": {},
     "source": [
      "Define Dataset"
     ]
    },
    {
     "cell_type": "code",
     "collapsed": false,
     "input": [
      "rand_forest_df = loanStats.dropna(subset=['is_bad'])\n",
      "rand_forest_df.revol_util[rand_forest_df.revol_util.isnull()] = 0\n",
      "rand_forest_col = ['is_bad', 'fico_range_high', 'int_rate', 'dti', 'funded_amnt',\n",
      "                   'total_acc', 'annual_inc', 'revol_util', 'home_ownership_encode',\n",
      "                   'purpose_refi', 'is_inc_v_encode', 'emp_length_num', 'vintage']\n",
      "rand_forest_df = rand_forest_df[rand_forest_col]"
     ],
     "language": "python",
     "metadata": {},
     "outputs": [],
     "prompt_number": 27
    },
    {
     "cell_type": "heading",
     "level": 4,
     "metadata": {},
     "source": [
      "Set X and y values"
     ]
    },
    {
     "cell_type": "code",
     "collapsed": false,
     "input": [
      "y = rand_forest_df['is_bad']\n",
      "X_columns = rand_forest_df.columns.drop('is_bad')\n",
      "X = rand_forest_df[X_columns]"
     ],
     "language": "python",
     "metadata": {},
     "outputs": [],
     "prompt_number": 28
    },
    {
     "cell_type": "heading",
     "level": 1,
     "metadata": {},
     "source": [
      "Train Model"
     ]
    },
    {
     "cell_type": "code",
     "collapsed": false,
     "input": [
      "from sklearn import cross_validation\n",
      "X_train, X_test, y_train, y_test = cross_validation.train_test_split(X, y, test_size=0.25, random_state=0)"
     ],
     "language": "python",
     "metadata": {},
     "outputs": [],
     "prompt_number": 29
    },
    {
     "cell_type": "code",
     "collapsed": false,
     "input": [
      "from sklearn.ensemble import RandomForestClassifier\n",
      "model = RandomForestClassifier(criterion='entropy')\n",
      "model.fit(X_train,y_train)"
     ],
     "language": "python",
     "metadata": {},
     "outputs": [
      {
       "metadata": {},
       "output_type": "pyout",
       "prompt_number": 30,
       "text": [
        "RandomForestClassifier(bootstrap=True, compute_importances=None,\n",
        "            criterion='entropy', max_depth=None, max_features='auto',\n",
        "            min_density=None, min_samples_leaf=1, min_samples_split=2,\n",
        "            n_estimators=10, n_jobs=1, oob_score=False, random_state=None,\n",
        "            verbose=0)"
       ]
      }
     ],
     "prompt_number": 30
    },
    {
     "cell_type": "heading",
     "level": 4,
     "metadata": {},
     "source": [
      "Score and Predict"
     ]
    },
    {
     "cell_type": "code",
     "collapsed": false,
     "input": [
      "preds = model.predict(X_test)\n",
      "y_score = model.predict_proba(X_test)[:,1]"
     ],
     "language": "python",
     "metadata": {},
     "outputs": [],
     "prompt_number": 31
    },
    {
     "cell_type": "heading",
     "level": 1,
     "metadata": {},
     "source": [
      "Compute Metrics"
     ]
    },
    {
     "cell_type": "code",
     "collapsed": false,
     "input": [
      "from sklearn import metrics"
     ],
     "language": "python",
     "metadata": {},
     "outputs": [],
     "prompt_number": 32
    },
    {
     "cell_type": "heading",
     "level": 4,
     "metadata": {},
     "source": [
      "Confusion Matrix"
     ]
    },
    {
     "cell_type": "code",
     "collapsed": false,
     "input": [
      "pd.DataFrame(metrics.confusion_matrix(y_test, preds), index=['Actual Good', 'Actual Bad'], columns=['Predicted Good', 'Predicted Bad'])"
     ],
     "language": "python",
     "metadata": {},
     "outputs": [
      {
       "html": [
        "<div style=\"max-height:1000px;max-width:1500px;overflow:auto;\">\n",
        "<table border=\"1\" class=\"dataframe\">\n",
        "  <thead>\n",
        "    <tr style=\"text-align: right;\">\n",
        "      <th></th>\n",
        "      <th>Predicted Good</th>\n",
        "      <th>Predicted Bad</th>\n",
        "    </tr>\n",
        "  </thead>\n",
        "  <tbody>\n",
        "    <tr>\n",
        "      <th>Actual Good</th>\n",
        "      <td> 15442</td>\n",
        "      <td> 418</td>\n",
        "    </tr>\n",
        "    <tr>\n",
        "      <th>Actual Bad</th>\n",
        "      <td>  3328</td>\n",
        "      <td> 309</td>\n",
        "    </tr>\n",
        "  </tbody>\n",
        "</table>\n",
        "</div>"
       ],
       "metadata": {},
       "output_type": "pyout",
       "prompt_number": 33,
       "text": [
        "             Predicted Good  Predicted Bad\n",
        "Actual Good           15442            418\n",
        "Actual Bad             3328            309"
       ]
      }
     ],
     "prompt_number": 33
    },
    {
     "cell_type": "heading",
     "level": 4,
     "metadata": {},
     "source": [
      "Classification Report"
     ]
    },
    {
     "cell_type": "code",
     "collapsed": false,
     "input": [
      "print metrics.classification_report(y_test, preds)"
     ],
     "language": "python",
     "metadata": {},
     "outputs": [
      {
       "output_type": "stream",
       "stream": "stdout",
       "text": [
        "             precision    recall  f1-score   support\n",
        "\n",
        "        0.0       0.82      0.97      0.89     15860\n",
        "        1.0       0.43      0.08      0.14      3637\n",
        "\n",
        "avg / total       0.75      0.81      0.75     19497\n",
        "\n"
       ]
      }
     ],
     "prompt_number": 34
    },
    {
     "cell_type": "heading",
     "level": 4,
     "metadata": {},
     "source": [
      "Area Under ROC Curve"
     ]
    },
    {
     "cell_type": "code",
     "collapsed": true,
     "input": [
      "metrics.roc_auc_score(y_test,y_score)"
     ],
     "language": "python",
     "metadata": {},
     "outputs": [
      {
       "metadata": {},
       "output_type": "pyout",
       "prompt_number": 35,
       "text": [
        "0.65119472314286997"
       ]
      }
     ],
     "prompt_number": 35
    },
    {
     "cell_type": "heading",
     "level": 4,
     "metadata": {},
     "source": [
      "ROC Curve"
     ]
    },
    {
     "cell_type": "code",
     "collapsed": false,
     "input": [
      "fpr, tpr, threshold = metrics.roc_curve(y_test, y_score, pos_label=1)\n",
      "roc_curve = pd.DataFrame(np.column_stack((tpr, fpr, threshold)), columns=['true_pos_rate', 'false_pos_rate', 'threshold'])\n",
      "roc_curve\n",
      "roc_curve.plot(x='false_pos_rate', y='true_pos_rate', figsize=(15,10))\n",
      "plt.ylabel('true_pos_rate')\n",
      "plt.title('ROC Curve')"
     ],
     "language": "python",
     "metadata": {},
     "outputs": [
      {
       "metadata": {},
       "output_type": "pyout",
       "prompt_number": 36,
       "text": [
        "<matplotlib.text.Text at 0x1880cd68>"
       ]
      },
      {
       "metadata": {},
       "output_type": "display_data",
       "png": "[encoded data removed]",
       "text": [
        "<matplotlib.figure.Figure at 0x127e59e8>"
       ]
      }
     ],
     "prompt_number": 36
    }
   ],
   "metadata": {}
  }
 ]
}