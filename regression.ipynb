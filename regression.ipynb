{
 "metadata": {
  "name": "",
  "signature": "sha256:cc6ef65d1523c938c1160dad5396b03ea2b732eb940d35db8b65676fe9c52561"
 },
 "nbformat": 3,
 "nbformat_minor": 0,
 "worksheets": [
  {
   "cells": [
    {
     "cell_type": "code",
     "collapsed": false,
     "input": [
      "%run import_clean_data.ipynb"
     ],
     "language": "python",
     "metadata": {},
     "outputs": [
      {
       "output_type": "stream",
       "stream": "stderr",
       "text": [
        "c:\\Users\\gmorneault\\Anaconda\\lib\\site-packages\\pandas\\io\\parsers.py:1139: DtypeWarning: Columns (5,6,8,9,10,11,12,14,15,16,17,19,20,21,22,23,24,35,49,52,62,64,65) have mixed types. Specify dtype option on import or set low_memory=False.\n",
        "  data = self._reader.read(nrows)\n"
       ]
      }
     ],
     "prompt_number": 1
    },
    {
     "cell_type": "heading",
     "level": 1,
     "metadata": {},
     "source": [
      "Define dataset"
     ]
    },
    {
     "cell_type": "code",
     "collapsed": false,
     "input": [
      "ensemble_df = loanStats.dropna(subset=['is_bad'])\n",
      "ensemble_df.revol_util[ensemble_df.revol_util.isnull()] = 0\n",
      "ensemble_col = ['is_bad', 'fico_range_high', 'grade_category', 'int_rate', 'dti', 'funded_amnt',\n",
      "                'total_acc', 'annual_inc', 'revol_util', 'home_ownership_encode', 'purpose_refi',\n",
      "                'is_inc_v_encode', 'emp_length_num', 'vintage']\n",
      "ensemble_df = ensemble_df[ensemble_col]\n",
      "ensemble_df.is_bad = ensemble_df.is_bad.astype(int)"
     ],
     "language": "python",
     "metadata": {},
     "outputs": [],
     "prompt_number": 4
    },
    {
     "cell_type": "heading",
     "level": 4,
     "metadata": {},
     "source": [
      "Set X and y values"
     ]
    },
    {
     "cell_type": "code",
     "collapsed": true,
     "input": [
      "y = ensemble_df['is_bad']\n",
      "X_columns = ensemble_df.columns.drop('is_bad')\n",
      "X = ensemble_df[X_columns]"
     ],
     "language": "python",
     "metadata": {},
     "outputs": [],
     "prompt_number": 5
    },
    {
     "cell_type": "heading",
     "level": 1,
     "metadata": {},
     "source": [
      "Correlation between variables"
     ]
    },
    {
     "cell_type": "code",
     "collapsed": false,
     "input": [
      "ensemble_df.corr()"
     ],
     "language": "python",
     "metadata": {},
     "outputs": [
      {
       "html": [
        "<div style=\"max-height:1000px;max-width:1500px;overflow:auto;\">\n",
        "<table border=\"1\" class=\"dataframe\">\n",
        "  <thead>\n",
        "    <tr style=\"text-align: right;\">\n",
        "      <th></th>\n",
        "      <th>is_bad</th>\n",
        "      <th>fico_range_high</th>\n",
        "      <th>grade_category</th>\n",
        "      <th>int_rate</th>\n",
        "      <th>dti</th>\n",
        "      <th>funded_amnt</th>\n",
        "      <th>total_acc</th>\n",
        "      <th>annual_inc</th>\n",
        "      <th>revol_util</th>\n",
        "      <th>home_ownership_encode</th>\n",
        "      <th>purpose_refi</th>\n",
        "      <th>is_inc_v_encode</th>\n",
        "      <th>emp_length_num</th>\n",
        "      <th>vintage</th>\n",
        "    </tr>\n",
        "  </thead>\n",
        "  <tbody>\n",
        "    <tr>\n",
        "      <th>is_bad</th>\n",
        "      <td> 1.000000</td>\n",
        "      <td>-0.141851</td>\n",
        "      <td> 0.186220</td>\n",
        "      <td> 0.209573</td>\n",
        "      <td> 0.105257</td>\n",
        "      <td> 0.059072</td>\n",
        "      <td>-0.047963</td>\n",
        "      <td>-0.062043</td>\n",
        "      <td> 0.119550</td>\n",
        "      <td> 0.052028</td>\n",
        "      <td> 0.021005</td>\n",
        "      <td>-0.061484</td>\n",
        "      <td>-0.007179</td>\n",
        "      <td> 0.018166</td>\n",
        "    </tr>\n",
        "    <tr>\n",
        "      <th>fico_range_high</th>\n",
        "      <td>-0.141851</td>\n",
        "      <td> 1.000000</td>\n",
        "      <td>-0.528141</td>\n",
        "      <td>-0.656693</td>\n",
        "      <td>-0.217430</td>\n",
        "      <td> 0.032510</td>\n",
        "      <td> 0.031583</td>\n",
        "      <td> 0.057815</td>\n",
        "      <td>-0.565673</td>\n",
        "      <td>-0.113864</td>\n",
        "      <td>-0.132680</td>\n",
        "      <td> 0.051584</td>\n",
        "      <td>-0.009683</td>\n",
        "      <td>-0.225140</td>\n",
        "    </tr>\n",
        "    <tr>\n",
        "      <th>grade_category</th>\n",
        "      <td> 0.186220</td>\n",
        "      <td>-0.528141</td>\n",
        "      <td> 1.000000</td>\n",
        "      <td> 0.857909</td>\n",
        "      <td> 0.118102</td>\n",
        "      <td> 0.256395</td>\n",
        "      <td> 0.006986</td>\n",
        "      <td> 0.025217</td>\n",
        "      <td> 0.343510</td>\n",
        "      <td> 0.049131</td>\n",
        "      <td> 0.066892</td>\n",
        "      <td>-0.199695</td>\n",
        "      <td> 0.027728</td>\n",
        "      <td> 0.111499</td>\n",
        "    </tr>\n",
        "    <tr>\n",
        "      <th>int_rate</th>\n",
        "      <td> 0.209573</td>\n",
        "      <td>-0.656693</td>\n",
        "      <td> 0.857909</td>\n",
        "      <td> 1.000000</td>\n",
        "      <td> 0.189088</td>\n",
        "      <td> 0.304090</td>\n",
        "      <td> 0.022975</td>\n",
        "      <td> 0.023035</td>\n",
        "      <td> 0.424060</td>\n",
        "      <td> 0.052417</td>\n",
        "      <td> 0.103101</td>\n",
        "      <td>-0.230489</td>\n",
        "      <td> 0.058303</td>\n",
        "      <td> 0.298565</td>\n",
        "    </tr>\n",
        "    <tr>\n",
        "      <th>dti</th>\n",
        "      <td> 0.105257</td>\n",
        "      <td>-0.217430</td>\n",
        "      <td> 0.118102</td>\n",
        "      <td> 0.189088</td>\n",
        "      <td> 1.000000</td>\n",
        "      <td> 0.076334</td>\n",
        "      <td> 0.247494</td>\n",
        "      <td>-0.144895</td>\n",
        "      <td> 0.276751</td>\n",
        "      <td>-0.001685</td>\n",
        "      <td> 0.149474</td>\n",
        "      <td>-0.104869</td>\n",
        "      <td> 0.065092</td>\n",
        "      <td> 0.205389</td>\n",
        "    </tr>\n",
        "    <tr>\n",
        "      <th>funded_amnt</th>\n",
        "      <td> 0.059072</td>\n",
        "      <td> 0.032510</td>\n",
        "      <td> 0.256395</td>\n",
        "      <td> 0.304090</td>\n",
        "      <td> 0.076334</td>\n",
        "      <td> 1.000000</td>\n",
        "      <td> 0.246367</td>\n",
        "      <td> 0.282365</td>\n",
        "      <td> 0.103643</td>\n",
        "      <td>-0.176913</td>\n",
        "      <td> 0.167454</td>\n",
        "      <td>-0.347789</td>\n",
        "      <td> 0.150991</td>\n",
        "      <td> 0.206762</td>\n",
        "    </tr>\n",
        "    <tr>\n",
        "      <th>total_acc</th>\n",
        "      <td>-0.047963</td>\n",
        "      <td> 0.031583</td>\n",
        "      <td> 0.006986</td>\n",
        "      <td> 0.022975</td>\n",
        "      <td> 0.247494</td>\n",
        "      <td> 0.246367</td>\n",
        "      <td> 1.000000</td>\n",
        "      <td> 0.205736</td>\n",
        "      <td>-0.054861</td>\n",
        "      <td>-0.283416</td>\n",
        "      <td> 0.071926</td>\n",
        "      <td>-0.119962</td>\n",
        "      <td> 0.178139</td>\n",
        "      <td> 0.149048</td>\n",
        "    </tr>\n",
        "    <tr>\n",
        "      <th>annual_inc</th>\n",
        "      <td>-0.062043</td>\n",
        "      <td> 0.057815</td>\n",
        "      <td> 0.025217</td>\n",
        "      <td> 0.023035</td>\n",
        "      <td>-0.144895</td>\n",
        "      <td> 0.282365</td>\n",
        "      <td> 0.205736</td>\n",
        "      <td> 1.000000</td>\n",
        "      <td> 0.018039</td>\n",
        "      <td>-0.173183</td>\n",
        "      <td>-0.017312</td>\n",
        "      <td>-0.115450</td>\n",
        "      <td> 0.100576</td>\n",
        "      <td> 0.039323</td>\n",
        "    </tr>\n",
        "    <tr>\n",
        "      <th>revol_util</th>\n",
        "      <td> 0.119550</td>\n",
        "      <td>-0.565673</td>\n",
        "      <td> 0.343510</td>\n",
        "      <td> 0.424060</td>\n",
        "      <td> 0.276751</td>\n",
        "      <td> 0.103643</td>\n",
        "      <td>-0.054861</td>\n",
        "      <td> 0.018039</td>\n",
        "      <td> 1.000000</td>\n",
        "      <td> 0.026273</td>\n",
        "      <td> 0.141863</td>\n",
        "      <td>-0.075168</td>\n",
        "      <td> 0.062791</td>\n",
        "      <td> 0.137706</td>\n",
        "    </tr>\n",
        "    <tr>\n",
        "      <th>home_ownership_encode</th>\n",
        "      <td> 0.052028</td>\n",
        "      <td>-0.113864</td>\n",
        "      <td> 0.049131</td>\n",
        "      <td> 0.052417</td>\n",
        "      <td>-0.001685</td>\n",
        "      <td>-0.176913</td>\n",
        "      <td>-0.283416</td>\n",
        "      <td>-0.173183</td>\n",
        "      <td> 0.026273</td>\n",
        "      <td> 1.000000</td>\n",
        "      <td> 0.023662</td>\n",
        "      <td> 0.085416</td>\n",
        "      <td>-0.224889</td>\n",
        "      <td>-0.090385</td>\n",
        "    </tr>\n",
        "    <tr>\n",
        "      <th>purpose_refi</th>\n",
        "      <td> 0.021005</td>\n",
        "      <td>-0.132680</td>\n",
        "      <td> 0.066892</td>\n",
        "      <td> 0.103101</td>\n",
        "      <td> 0.149474</td>\n",
        "      <td> 0.167454</td>\n",
        "      <td> 0.071926</td>\n",
        "      <td>-0.017312</td>\n",
        "      <td> 0.141863</td>\n",
        "      <td> 0.023662</td>\n",
        "      <td> 1.000000</td>\n",
        "      <td>-0.062749</td>\n",
        "      <td> 0.054051</td>\n",
        "      <td> 0.128991</td>\n",
        "    </tr>\n",
        "    <tr>\n",
        "      <th>is_inc_v_encode</th>\n",
        "      <td>-0.061484</td>\n",
        "      <td> 0.051584</td>\n",
        "      <td>-0.199695</td>\n",
        "      <td>-0.230489</td>\n",
        "      <td>-0.104869</td>\n",
        "      <td>-0.347789</td>\n",
        "      <td>-0.119962</td>\n",
        "      <td>-0.115450</td>\n",
        "      <td>-0.075168</td>\n",
        "      <td> 0.085416</td>\n",
        "      <td>-0.062749</td>\n",
        "      <td> 1.000000</td>\n",
        "      <td>-0.043655</td>\n",
        "      <td>-0.196381</td>\n",
        "    </tr>\n",
        "    <tr>\n",
        "      <th>emp_length_num</th>\n",
        "      <td>-0.007179</td>\n",
        "      <td>-0.009683</td>\n",
        "      <td> 0.027728</td>\n",
        "      <td> 0.058303</td>\n",
        "      <td> 0.065092</td>\n",
        "      <td> 0.150991</td>\n",
        "      <td> 0.178139</td>\n",
        "      <td> 0.100576</td>\n",
        "      <td> 0.062791</td>\n",
        "      <td>-0.224889</td>\n",
        "      <td> 0.054051</td>\n",
        "      <td>-0.043655</td>\n",
        "      <td> 1.000000</td>\n",
        "      <td> 0.152433</td>\n",
        "    </tr>\n",
        "    <tr>\n",
        "      <th>vintage</th>\n",
        "      <td> 0.018166</td>\n",
        "      <td>-0.225140</td>\n",
        "      <td> 0.111499</td>\n",
        "      <td> 0.298565</td>\n",
        "      <td> 0.205389</td>\n",
        "      <td> 0.206762</td>\n",
        "      <td> 0.149048</td>\n",
        "      <td> 0.039323</td>\n",
        "      <td> 0.137706</td>\n",
        "      <td>-0.090385</td>\n",
        "      <td> 0.128991</td>\n",
        "      <td>-0.196381</td>\n",
        "      <td> 0.152433</td>\n",
        "      <td> 1.000000</td>\n",
        "    </tr>\n",
        "  </tbody>\n",
        "</table>\n",
        "</div>"
       ],
       "metadata": {},
       "output_type": "pyout",
       "prompt_number": 6,
       "text": [
        "                         is_bad  fico_range_high  grade_category  int_rate  \\\n",
        "is_bad                 1.000000        -0.141851        0.186220  0.209573   \n",
        "fico_range_high       -0.141851         1.000000       -0.528141 -0.656693   \n",
        "grade_category         0.186220        -0.528141        1.000000  0.857909   \n",
        "int_rate               0.209573        -0.656693        0.857909  1.000000   \n",
        "dti                    0.105257        -0.217430        0.118102  0.189088   \n",
        "funded_amnt            0.059072         0.032510        0.256395  0.304090   \n",
        "total_acc             -0.047963         0.031583        0.006986  0.022975   \n",
        "annual_inc            -0.062043         0.057815        0.025217  0.023035   \n",
        "revol_util             0.119550        -0.565673        0.343510  0.424060   \n",
        "home_ownership_encode  0.052028        -0.113864        0.049131  0.052417   \n",
        "purpose_refi           0.021005        -0.132680        0.066892  0.103101   \n",
        "is_inc_v_encode       -0.061484         0.051584       -0.199695 -0.230489   \n",
        "emp_length_num        -0.007179        -0.009683        0.027728  0.058303   \n",
        "vintage                0.018166        -0.225140        0.111499  0.298565   \n",
        "\n",
        "                            dti  funded_amnt  total_acc  annual_inc  \\\n",
        "is_bad                 0.105257     0.059072  -0.047963   -0.062043   \n",
        "fico_range_high       -0.217430     0.032510   0.031583    0.057815   \n",
        "grade_category         0.118102     0.256395   0.006986    0.025217   \n",
        "int_rate               0.189088     0.304090   0.022975    0.023035   \n",
        "dti                    1.000000     0.076334   0.247494   -0.144895   \n",
        "funded_amnt            0.076334     1.000000   0.246367    0.282365   \n",
        "total_acc              0.247494     0.246367   1.000000    0.205736   \n",
        "annual_inc            -0.144895     0.282365   0.205736    1.000000   \n",
        "revol_util             0.276751     0.103643  -0.054861    0.018039   \n",
        "home_ownership_encode -0.001685    -0.176913  -0.283416   -0.173183   \n",
        "purpose_refi           0.149474     0.167454   0.071926   -0.017312   \n",
        "is_inc_v_encode       -0.104869    -0.347789  -0.119962   -0.115450   \n",
        "emp_length_num         0.065092     0.150991   0.178139    0.100576   \n",
        "vintage                0.205389     0.206762   0.149048    0.039323   \n",
        "\n",
        "                       revol_util  home_ownership_encode  purpose_refi  \\\n",
        "is_bad                   0.119550               0.052028      0.021005   \n",
        "fico_range_high         -0.565673              -0.113864     -0.132680   \n",
        "grade_category           0.343510               0.049131      0.066892   \n",
        "int_rate                 0.424060               0.052417      0.103101   \n",
        "dti                      0.276751              -0.001685      0.149474   \n",
        "funded_amnt              0.103643              -0.176913      0.167454   \n",
        "total_acc               -0.054861              -0.283416      0.071926   \n",
        "annual_inc               0.018039              -0.173183     -0.017312   \n",
        "revol_util               1.000000               0.026273      0.141863   \n",
        "home_ownership_encode    0.026273               1.000000      0.023662   \n",
        "purpose_refi             0.141863               0.023662      1.000000   \n",
        "is_inc_v_encode         -0.075168               0.085416     -0.062749   \n",
        "emp_length_num           0.062791              -0.224889      0.054051   \n",
        "vintage                  0.137706              -0.090385      0.128991   \n",
        "\n",
        "                       is_inc_v_encode  emp_length_num   vintage  \n",
        "is_bad                       -0.061484       -0.007179  0.018166  \n",
        "fico_range_high               0.051584       -0.009683 -0.225140  \n",
        "grade_category               -0.199695        0.027728  0.111499  \n",
        "int_rate                     -0.230489        0.058303  0.298565  \n",
        "dti                          -0.104869        0.065092  0.205389  \n",
        "funded_amnt                  -0.347789        0.150991  0.206762  \n",
        "total_acc                    -0.119962        0.178139  0.149048  \n",
        "annual_inc                   -0.115450        0.100576  0.039323  \n",
        "revol_util                   -0.075168        0.062791  0.137706  \n",
        "home_ownership_encode         0.085416       -0.224889 -0.090385  \n",
        "purpose_refi                 -0.062749        0.054051  0.128991  \n",
        "is_inc_v_encode               1.000000       -0.043655 -0.196381  \n",
        "emp_length_num               -0.043655        1.000000  0.152433  \n",
        "vintage                      -0.196381        0.152433  1.000000  "
       ]
      }
     ],
     "prompt_number": 6
    },
    {
     "cell_type": "heading",
     "level": 1,
     "metadata": {},
     "source": [
      "Classification"
     ]
    },
    {
     "cell_type": "heading",
     "level": 4,
     "metadata": {},
     "source": [
      "Extra Trees Classifier"
     ]
    },
    {
     "cell_type": "code",
     "collapsed": false,
     "input": [
      "from sklearn.ensemble import ExtraTreesClassifier\n",
      "clf = ExtraTreesClassifier()\n",
      "clf.fit(X, y)\n",
      "X_importance = clf.feature_importances_ \n",
      "\n",
      "extra_trees = pd.DataFrame(zip(X_columns, X_importance), columns=['features', 'extra_trees'])\n",
      "#extra_trees.set_index('features', inplace=True)"
     ],
     "language": "python",
     "metadata": {},
     "outputs": [],
     "prompt_number": 7
    },
    {
     "cell_type": "heading",
     "level": 4,
     "metadata": {},
     "source": [
      "Random Forest Classifier"
     ]
    },
    {
     "cell_type": "code",
     "collapsed": true,
     "input": [
      "from sklearn.ensemble import RandomForestClassifier\n",
      "clt = RandomForestClassifier()\n",
      "clf.fit(X, y)\n",
      "X_importance = clf.feature_importances_\n",
      "\n",
      "random_forest = pd.DataFrame(zip(X_columns, X_importance), columns=['features', 'random_forest'])\n",
      "#random_forest.set_index('features', inplace=True)"
     ],
     "language": "python",
     "metadata": {},
     "outputs": [],
     "prompt_number": 8
    },
    {
     "cell_type": "heading",
     "level": 4,
     "metadata": {},
     "source": [
      "Ada Boost Classifier"
     ]
    },
    {
     "cell_type": "code",
     "collapsed": true,
     "input": [
      "from sklearn.ensemble import AdaBoostClassifier\n",
      "clt = AdaBoostClassifier()\n",
      "clf.fit(X, y)\n",
      "X_importance = clf.feature_importances_\n",
      "\n",
      "ada_boost = pd.DataFrame(zip(X_columns, X_importance), columns=['features', 'ada_boost'])\n",
      "#ada_boost.set_index('features', inplace=True)"
     ],
     "language": "python",
     "metadata": {},
     "outputs": [],
     "prompt_number": 9
    },
    {
     "cell_type": "heading",
     "level": 4,
     "metadata": {},
     "source": [
      "Average Classifier Feature Importance"
     ]
    },
    {
     "cell_type": "code",
     "collapsed": false,
     "input": [
      "feature_importance = pd.merge(pd.merge(extra_trees, random_forest), ada_boost)\n",
      "feature_importance['average'] = np.divide(feature_importance.extra_trees +\n",
      "                                          feature_importance.random_forest +\n",
      "                                          feature_importance.ada_boost, 3)\n",
      "feature_importance.sort(columns='average', ascending=False, inplace=True)\n",
      "feature_importance.reset_index(drop='index', inplace=True)\n",
      "feature_importance"
     ],
     "language": "python",
     "metadata": {},
     "outputs": [
      {
       "html": [
        "<div style=\"max-height:1000px;max-width:1500px;overflow:auto;\">\n",
        "<table border=\"1\" class=\"dataframe\">\n",
        "  <thead>\n",
        "    <tr style=\"text-align: right;\">\n",
        "      <th></th>\n",
        "      <th>features</th>\n",
        "      <th>extra_trees</th>\n",
        "      <th>random_forest</th>\n",
        "      <th>ada_boost</th>\n",
        "      <th>average</th>\n",
        "    </tr>\n",
        "  </thead>\n",
        "  <tbody>\n",
        "    <tr>\n",
        "      <th>0 </th>\n",
        "      <td>                   dti</td>\n",
        "      <td> 0.117008</td>\n",
        "      <td> 0.115032</td>\n",
        "      <td> 0.113783</td>\n",
        "      <td> 0.115274</td>\n",
        "    </tr>\n",
        "    <tr>\n",
        "      <th>1 </th>\n",
        "      <td>            annual_inc</td>\n",
        "      <td> 0.114635</td>\n",
        "      <td> 0.113796</td>\n",
        "      <td> 0.115523</td>\n",
        "      <td> 0.114651</td>\n",
        "    </tr>\n",
        "    <tr>\n",
        "      <th>2 </th>\n",
        "      <td>              int_rate</td>\n",
        "      <td> 0.111838</td>\n",
        "      <td> 0.112289</td>\n",
        "      <td> 0.115855</td>\n",
        "      <td> 0.113327</td>\n",
        "    </tr>\n",
        "    <tr>\n",
        "      <th>3 </th>\n",
        "      <td>            revol_util</td>\n",
        "      <td> 0.111840</td>\n",
        "      <td> 0.111916</td>\n",
        "      <td> 0.111219</td>\n",
        "      <td> 0.111658</td>\n",
        "    </tr>\n",
        "    <tr>\n",
        "      <th>4 </th>\n",
        "      <td>             total_acc</td>\n",
        "      <td> 0.107898</td>\n",
        "      <td> 0.107045</td>\n",
        "      <td> 0.107490</td>\n",
        "      <td> 0.107478</td>\n",
        "    </tr>\n",
        "    <tr>\n",
        "      <th>5 </th>\n",
        "      <td>           funded_amnt</td>\n",
        "      <td> 0.106450</td>\n",
        "      <td> 0.105553</td>\n",
        "      <td> 0.106103</td>\n",
        "      <td> 0.106035</td>\n",
        "    </tr>\n",
        "    <tr>\n",
        "      <th>6 </th>\n",
        "      <td>       fico_range_high</td>\n",
        "      <td> 0.099663</td>\n",
        "      <td> 0.099164</td>\n",
        "      <td> 0.097851</td>\n",
        "      <td> 0.098892</td>\n",
        "    </tr>\n",
        "    <tr>\n",
        "      <th>7 </th>\n",
        "      <td>        emp_length_num</td>\n",
        "      <td> 0.083436</td>\n",
        "      <td> 0.084473</td>\n",
        "      <td> 0.085139</td>\n",
        "      <td> 0.084349</td>\n",
        "    </tr>\n",
        "    <tr>\n",
        "      <th>8 </th>\n",
        "      <td>               vintage</td>\n",
        "      <td> 0.060538</td>\n",
        "      <td> 0.063106</td>\n",
        "      <td> 0.060180</td>\n",
        "      <td> 0.061274</td>\n",
        "    </tr>\n",
        "    <tr>\n",
        "      <th>9 </th>\n",
        "      <td>          purpose_refi</td>\n",
        "      <td> 0.025563</td>\n",
        "      <td> 0.023853</td>\n",
        "      <td> 0.025254</td>\n",
        "      <td> 0.024890</td>\n",
        "    </tr>\n",
        "    <tr>\n",
        "      <th>10</th>\n",
        "      <td>        grade_category</td>\n",
        "      <td> 0.025760</td>\n",
        "      <td> 0.025917</td>\n",
        "      <td> 0.022209</td>\n",
        "      <td> 0.024628</td>\n",
        "    </tr>\n",
        "    <tr>\n",
        "      <th>11</th>\n",
        "      <td> home_ownership_encode</td>\n",
        "      <td> 0.021577</td>\n",
        "      <td> 0.024096</td>\n",
        "      <td> 0.023251</td>\n",
        "      <td> 0.022975</td>\n",
        "    </tr>\n",
        "    <tr>\n",
        "      <th>12</th>\n",
        "      <td>       is_inc_v_encode</td>\n",
        "      <td> 0.013795</td>\n",
        "      <td> 0.013761</td>\n",
        "      <td> 0.016144</td>\n",
        "      <td> 0.014567</td>\n",
        "    </tr>\n",
        "  </tbody>\n",
        "</table>\n",
        "</div>"
       ],
       "metadata": {},
       "output_type": "pyout",
       "prompt_number": 11,
       "text": [
        "                 features  extra_trees  random_forest  ada_boost   average\n",
        "0                     dti     0.117008       0.115032   0.113783  0.115274\n",
        "1              annual_inc     0.114635       0.113796   0.115523  0.114651\n",
        "2                int_rate     0.111838       0.112289   0.115855  0.113327\n",
        "3              revol_util     0.111840       0.111916   0.111219  0.111658\n",
        "4               total_acc     0.107898       0.107045   0.107490  0.107478\n",
        "5             funded_amnt     0.106450       0.105553   0.106103  0.106035\n",
        "6         fico_range_high     0.099663       0.099164   0.097851  0.098892\n",
        "7          emp_length_num     0.083436       0.084473   0.085139  0.084349\n",
        "8                 vintage     0.060538       0.063106   0.060180  0.061274\n",
        "9            purpose_refi     0.025563       0.023853   0.025254  0.024890\n",
        "10         grade_category     0.025760       0.025917   0.022209  0.024628\n",
        "11  home_ownership_encode     0.021577       0.024096   0.023251  0.022975\n",
        "12        is_inc_v_encode     0.013795       0.013761   0.016144  0.014567"
       ]
      }
     ],
     "prompt_number": 11
    },
    {
     "cell_type": "heading",
     "level": 1,
     "metadata": {},
     "source": [
      "Logistic Regression"
     ]
    },
    {
     "cell_type": "heading",
     "level": 4,
     "metadata": {},
     "source": [
      "Set Data"
     ]
    },
    {
     "cell_type": "code",
     "collapsed": false,
     "input": [
      "logit_col = ['is_bad', 'int_rate', 'dti', 'annual_inc', 'revol_util', 'funded_amnt', 'total_acc', 'fico_range_high',\n",
      "             'emp_length_num', 'vintage', 'purpose_refi', 'home_ownership_encode', 'grade_category', 'is_inc_v_encode']"
     ],
     "language": "python",
     "metadata": {},
     "outputs": [],
     "prompt_number": 15
    },
    {
     "cell_type": "code",
     "collapsed": false,
     "input": [
      "logit_df = ensemble_df[logit_col]"
     ],
     "language": "python",
     "metadata": {},
     "outputs": [],
     "prompt_number": 16
    },
    {
     "cell_type": "code",
     "collapsed": true,
     "input": [
      "y = logit_df['is_bad']\n",
      "X_columns = logit_df.columns.drop('is_bad')\n",
      "X = logit_df[X_columns]"
     ],
     "language": "python",
     "metadata": {},
     "outputs": [],
     "prompt_number": 17
    },
    {
     "cell_type": "heading",
     "level": 4,
     "metadata": {},
     "source": [
      "Train Model"
     ]
    },
    {
     "cell_type": "code",
     "collapsed": false,
     "input": [
      "from sklearn import cross_validation\n",
      "X_train, X_test, y_train, y_test = cross_validation.train_test_split(X, y, test_size=0.25, random_state=0)"
     ],
     "language": "python",
     "metadata": {},
     "outputs": [],
     "prompt_number": 18
    },
    {
     "cell_type": "code",
     "collapsed": false,
     "input": [
      "from sklearn.linear_model import LogisticRegression\n",
      "model = LogisticRegression()\n",
      "model.fit(X_train,y_train)"
     ],
     "language": "python",
     "metadata": {},
     "outputs": [
      {
       "metadata": {},
       "output_type": "pyout",
       "prompt_number": 19,
       "text": [
        "LogisticRegression(C=1.0, class_weight=None, dual=False, fit_intercept=True,\n",
        "          intercept_scaling=1, penalty='l2', random_state=None, tol=0.0001)"
       ]
      }
     ],
     "prompt_number": 19
    },
    {
     "cell_type": "heading",
     "level": 4,
     "metadata": {},
     "source": [
      "Score and Predict"
     ]
    },
    {
     "cell_type": "code",
     "collapsed": false,
     "input": [
      "y_score = model.predict_proba(X_test)[:, 1]\n",
      "preds = model.predict(X_test)"
     ],
     "language": "python",
     "metadata": {},
     "outputs": [],
     "prompt_number": 20
    },
    {
     "cell_type": "heading",
     "level": 4,
     "metadata": {},
     "source": [
      "Coefficients"
     ]
    },
    {
     "cell_type": "code",
     "collapsed": false,
     "input": [
      "pd.DataFrame(np.column_stack((X_columns, model.coef_.T)), columns=['Labels', 'Coefficients'])"
     ],
     "language": "python",
     "metadata": {},
     "outputs": [
      {
       "html": [
        "<div style=\"max-height:1000px;max-width:1500px;overflow:auto;\">\n",
        "<table border=\"1\" class=\"dataframe\">\n",
        "  <thead>\n",
        "    <tr style=\"text-align: right;\">\n",
        "      <th></th>\n",
        "      <th>Labels</th>\n",
        "      <th>Coefficients</th>\n",
        "    </tr>\n",
        "  </thead>\n",
        "  <tbody>\n",
        "    <tr>\n",
        "      <th>0 </th>\n",
        "      <td>              int_rate</td>\n",
        "      <td>  0.008458099</td>\n",
        "    </tr>\n",
        "    <tr>\n",
        "      <th>1 </th>\n",
        "      <td>                   dti</td>\n",
        "      <td>  0.005725938</td>\n",
        "    </tr>\n",
        "    <tr>\n",
        "      <th>2 </th>\n",
        "      <td>            annual_inc</td>\n",
        "      <td>-9.464193e-06</td>\n",
        "    </tr>\n",
        "    <tr>\n",
        "      <th>3 </th>\n",
        "      <td>            revol_util</td>\n",
        "      <td>  0.004811496</td>\n",
        "    </tr>\n",
        "    <tr>\n",
        "      <th>4 </th>\n",
        "      <td>           funded_amnt</td>\n",
        "      <td> 3.876809e-05</td>\n",
        "    </tr>\n",
        "    <tr>\n",
        "      <th>5 </th>\n",
        "      <td>             total_acc</td>\n",
        "      <td> -0.005744844</td>\n",
        "    </tr>\n",
        "    <tr>\n",
        "      <th>6 </th>\n",
        "      <td>       fico_range_high</td>\n",
        "      <td>  -0.01025777</td>\n",
        "    </tr>\n",
        "    <tr>\n",
        "      <th>7 </th>\n",
        "      <td>        emp_length_num</td>\n",
        "      <td>-0.0005000066</td>\n",
        "    </tr>\n",
        "    <tr>\n",
        "      <th>8 </th>\n",
        "      <td>               vintage</td>\n",
        "      <td>  0.002749223</td>\n",
        "    </tr>\n",
        "    <tr>\n",
        "      <th>9 </th>\n",
        "      <td>          purpose_refi</td>\n",
        "      <td>-0.0001910269</td>\n",
        "    </tr>\n",
        "    <tr>\n",
        "      <th>10</th>\n",
        "      <td> home_ownership_encode</td>\n",
        "      <td> 0.0009203768</td>\n",
        "    </tr>\n",
        "    <tr>\n",
        "      <th>11</th>\n",
        "      <td>        grade_category</td>\n",
        "      <td>  0.001242527</td>\n",
        "    </tr>\n",
        "    <tr>\n",
        "      <th>12</th>\n",
        "      <td>       is_inc_v_encode</td>\n",
        "      <td>-0.0003500777</td>\n",
        "    </tr>\n",
        "  </tbody>\n",
        "</table>\n",
        "</div>"
       ],
       "metadata": {},
       "output_type": "pyout",
       "prompt_number": 21,
       "text": [
        "                   Labels  Coefficients\n",
        "0                int_rate   0.008458099\n",
        "1                     dti   0.005725938\n",
        "2              annual_inc -9.464193e-06\n",
        "3              revol_util   0.004811496\n",
        "4             funded_amnt  3.876809e-05\n",
        "5               total_acc  -0.005744844\n",
        "6         fico_range_high   -0.01025777\n",
        "7          emp_length_num -0.0005000066\n",
        "8                 vintage   0.002749223\n",
        "9            purpose_refi -0.0001910269\n",
        "10  home_ownership_encode  0.0009203768\n",
        "11         grade_category   0.001242527\n",
        "12        is_inc_v_encode -0.0003500777"
       ]
      }
     ],
     "prompt_number": 21
    },
    {
     "cell_type": "heading",
     "level": 1,
     "metadata": {},
     "source": [
      "Compute Metrics"
     ]
    },
    {
     "cell_type": "code",
     "collapsed": false,
     "input": [
      "from sklearn import metrics"
     ],
     "language": "python",
     "metadata": {},
     "outputs": [],
     "prompt_number": 22
    },
    {
     "cell_type": "heading",
     "level": 4,
     "metadata": {},
     "source": [
      "Confusion Matrix"
     ]
    },
    {
     "cell_type": "code",
     "collapsed": false,
     "input": [
      "pd.DataFrame(metrics.confusion_matrix(y_test, preds), index=['Actual Good', 'Actual Bad'], columns=['Predicted Good', 'Predicted Bad'])"
     ],
     "language": "python",
     "metadata": {},
     "outputs": [
      {
       "html": [
        "<div style=\"max-height:1000px;max-width:1500px;overflow:auto;\">\n",
        "<table border=\"1\" class=\"dataframe\">\n",
        "  <thead>\n",
        "    <tr style=\"text-align: right;\">\n",
        "      <th></th>\n",
        "      <th>Predicted Good</th>\n",
        "      <th>Predicted Bad</th>\n",
        "    </tr>\n",
        "  </thead>\n",
        "  <tbody>\n",
        "    <tr>\n",
        "      <th>Actual Good</th>\n",
        "      <td> 15860</td>\n",
        "      <td> 0</td>\n",
        "    </tr>\n",
        "    <tr>\n",
        "      <th>Actual Bad</th>\n",
        "      <td>  3637</td>\n",
        "      <td> 0</td>\n",
        "    </tr>\n",
        "  </tbody>\n",
        "</table>\n",
        "</div>"
       ],
       "metadata": {},
       "output_type": "pyout",
       "prompt_number": 23,
       "text": [
        "             Predicted Good  Predicted Bad\n",
        "Actual Good           15860              0\n",
        "Actual Bad             3637              0"
       ]
      }
     ],
     "prompt_number": 23
    },
    {
     "cell_type": "heading",
     "level": 4,
     "metadata": {},
     "source": [
      "Classification Report"
     ]
    },
    {
     "cell_type": "code",
     "collapsed": false,
     "input": [
      "print metrics.classification_report(y_test, preds)"
     ],
     "language": "python",
     "metadata": {},
     "outputs": [
      {
       "output_type": "stream",
       "stream": "stdout",
       "text": [
        "             precision    recall  f1-score   support\n",
        "\n",
        "          0       0.81      1.00      0.90     15860\n",
        "          1       0.00      0.00      0.00      3637\n",
        "\n",
        "avg / total       0.66      0.81      0.73     19497\n",
        "\n"
       ]
      },
      {
       "output_type": "stream",
       "stream": "stderr",
       "text": [
        "c:\\Users\\gmorneault\\Anaconda\\lib\\site-packages\\sklearn\\metrics\\metrics.py:1905: UserWarning: The sum of true positives and false positives are equal to zero for some labels. Precision is ill defined for those labels [1]. The precision and recall are equal to zero for some labels. fbeta_score is ill defined for those labels [1]. \n",
        "  average=None)\n"
       ]
      }
     ],
     "prompt_number": 24
    },
    {
     "cell_type": "heading",
     "level": 4,
     "metadata": {},
     "source": [
      "Area Under ROC Curve"
     ]
    },
    {
     "cell_type": "code",
     "collapsed": true,
     "input": [
      "metrics.roc_auc_score(y_test,y_score)"
     ],
     "language": "python",
     "metadata": {},
     "outputs": [
      {
       "metadata": {},
       "output_type": "pyout",
       "prompt_number": 25,
       "text": [
        "0.65895486732443631"
       ]
      }
     ],
     "prompt_number": 25
    },
    {
     "cell_type": "heading",
     "level": 4,
     "metadata": {},
     "source": [
      "ROC Curve"
     ]
    },
    {
     "cell_type": "code",
     "collapsed": true,
     "input": [
      "fpr, tpr, threshold = metrics.roc_curve(y_test, y_score, pos_label=1)\n",
      "roc_curve = pd.DataFrame(np.column_stack((tpr, fpr, threshold)), columns=['true_pos_rate', 'false_pos_rate', 'threshold'])\n",
      "roc_curve\n",
      "roc_curve.plot(x='false_pos_rate', y='true_pos_rate', figsize=(15,10))\n",
      "plt.ylabel('true_pos_rate')\n",
      "plt.title('ROC Curve')"
     ],
     "language": "python",
     "metadata": {},
     "outputs": [
      {
       "metadata": {},
       "output_type": "pyout",
       "prompt_number": 26,
       "text": [
        "<matplotlib.text.Text at 0x1bd06898>"
       ]
      },
      {
       "metadata": {},
       "output_type": "display_data",
       "png": "[encoded data removed]",
       "text": [
        "<matplotlib.figure.Figure at 0x7ba9fc88>"
       ]
      }
     ],
     "prompt_number": 26
    }
   ],
   "metadata": {}
  }
 ]
}