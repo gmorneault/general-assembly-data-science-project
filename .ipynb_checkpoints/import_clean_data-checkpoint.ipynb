{
 "metadata": {
  "name": "",
  "signature": "sha256:cc83be8690836ee9cbc87308e8e85c4537d365361dbc993621a3c5212657af12"
 },
 "nbformat": 3,
 "nbformat_minor": 0,
 "worksheets": [
  {
   "cells": [
    {
     "cell_type": "code",
     "collapsed": true,
     "input": [
      "import os\n",
      "import math\n",
      "from datetime import datetime\n",
      "import numpy as np\n",
      "import pandas as pd\n",
      "import gc"
     ],
     "language": "python",
     "metadata": {},
     "outputs": [],
     "prompt_number": 36
    },
    {
     "cell_type": "heading",
     "level": 4,
     "metadata": {},
     "source": [
      "Import and merge datasets"
     ]
    },
    {
     "cell_type": "code",
     "collapsed": false,
     "input": [
      "loanStats3a = pd.read_csv('C:\\Users\\gmorneault\\Documents\\Data\\Lending Club\\LoanStats3a.csv', skiprows=1)\n",
      "loanStats3a['source'] = 'loanStats3a'\n",
      "\n",
      "loanStats3b = pd.read_csv('C:\\Users\\gmorneault\\Documents\\Data\\Lending Club\\LoanStats3b.csv', skiprows=1)\n",
      "loanStats3b['source'] = 'loanStats3b'\n",
      "\n",
      "loanStats3c = pd.read_csv('C:\\Users\\gmorneault\\Documents\\Data\\Lending Club\\LoanStats3c.csv', skiprows=1)\n",
      "loanStats3c['source'] = 'loanStats3c'\n",
      "\n",
      "loanStats = pd.concat([loanStats3a, loanStats3b, loanStats3c])\n",
      "loanStats.reset_index(drop='index', inplace=True)"
     ],
     "language": "python",
     "metadata": {},
     "outputs": [],
     "prompt_number": 46
    },
    {
     "cell_type": "heading",
     "level": 4,
     "metadata": {},
     "source": [
      "Define \"bad\" indicator"
     ]
    },
    {
     "cell_type": "code",
     "collapsed": false,
     "input": [
      "def is_bad(x):\n",
      "    if x in ['Default', 'Charged Off']:\n",
      "        return 1\n",
      "    elif x in ['Fully Paid']:\n",
      "        return 0\n",
      "    else:\n",
      "        return np.nan\n",
      "\n",
      "loanStats['is_bad'] = loanStats.loan_status.apply(is_bad)"
     ],
     "language": "python",
     "metadata": {},
     "outputs": [],
     "prompt_number": 47
    },
    {
     "cell_type": "heading",
     "level": 4,
     "metadata": {},
     "source": [
      "Convert dates"
     ]
    },
    {
     "cell_type": "code",
     "collapsed": false,
     "input": [
      "def year_calc(row):\n",
      "    if row['source'] in ['loanStats3a']:\n",
      "        return float(datetime.strptime(row['issue_d'], \"%m/%d/%Y\").year)\n",
      "    elif row['source'] in ['loanStats3b', 'loanStats3c']:\n",
      "        return float(datetime.strptime(row['issue_d'], \"%Y-%m-%d\").year)\n",
      "\n",
      "loanStats['vintage'] = loanStats.apply(year_calc, axis=1).astype(int)"
     ],
     "language": "python",
     "metadata": {},
     "outputs": [],
     "prompt_number": 48
    },
    {
     "cell_type": "heading",
     "level": 4,
     "metadata": {},
     "source": [
      "Convert percents"
     ]
    },
    {
     "cell_type": "code",
     "collapsed": false,
     "input": [
      "loanStats.revol_util = [float(str(rv).rstrip('%')) for rv in loanStats.revol_util]\n",
      "loanStats.int_rate = [float(str(ir).rstrip('%')) for ir in loanStats.int_rate]"
     ],
     "language": "python",
     "metadata": {},
     "outputs": [],
     "prompt_number": 49
    },
    {
     "cell_type": "heading",
     "level": 4,
     "metadata": {},
     "source": [
      "Encode employment length"
     ]
    },
    {
     "cell_type": "code",
     "collapsed": false,
     "input": [
      "emp_length_keys = loanStats.emp_length.unique()\n",
      "emp_length_keys.sort()\n",
      "emp_length_values = [0, 1, 10, 2, 3, 4, 5, 6, 7, 8, 9, 0, 0]\n",
      "emp_length_map = pd.DataFrame(zip(emp_length_keys, emp_length_values), columns=['emp_length', 'emp_length_num'])\n",
      "loanStats = pd.merge(loanStats, emp_length_map, how='left')"
     ],
     "language": "python",
     "metadata": {},
     "outputs": [],
     "prompt_number": 43
    },
    {
     "cell_type": "heading",
     "level": 4,
     "metadata": {},
     "source": [
      "Encode home ownership"
     ]
    },
    {
     "cell_type": "code",
     "collapsed": false,
     "input": [
      "from sklearn import preprocessing\n",
      "le = preprocessing.LabelEncoder()\n",
      "\n",
      "loanStats.home_ownership[loanStats.home_ownership.isnull()] = 'NONE'\n",
      "le.fit(loanStats.home_ownership.unique())\n",
      "loanStats['home_ownership_encode'] = le.transform(loanStats.home_ownership)"
     ],
     "language": "python",
     "metadata": {},
     "outputs": [],
     "prompt_number": 44
    },
    {
     "cell_type": "heading",
     "level": 4,
     "metadata": {},
     "source": [
      "Encode income verification"
     ]
    },
    {
     "cell_type": "code",
     "collapsed": false,
     "input": [
      "def inc_v_map(x):\n",
      "    if x in ['Verified', 'Source Verified']:\n",
      "        return 0\n",
      "    elif x in ['Not Verified']:\n",
      "        return 1\n",
      "    else:\n",
      "        np.nan\n",
      "loanStats['is_inc_v_encode'] = loanStats.is_inc_v.apply(inc_v_map)"
     ],
     "language": "python",
     "metadata": {},
     "outputs": [],
     "prompt_number": 10
    },
    {
     "cell_type": "heading",
     "level": 4,
     "metadata": {},
     "source": [
      "Encode purpose"
     ]
    },
    {
     "cell_type": "code",
     "collapsed": false,
     "input": [
      "def purp_map_refinance(x):\n",
      "    if x in ['debt_consolidation', 'house']:\n",
      "        return 1\n",
      "    else:\n",
      "        return 0\n",
      "\n",
      "loanStats['purpose_refi'] = loanStats.purpose.apply(purp_map_refinance)"
     ],
     "language": "python",
     "metadata": {},
     "outputs": [],
     "prompt_number": 34
    },
    {
     "cell_type": "heading",
     "level": 4,
     "metadata": {},
     "source": [
      "Grade Category"
     ]
    },
    {
     "cell_type": "code",
     "collapsed": false,
     "input": [
      "def grade_cat_map(x):\n",
      "    if x in ['A', 'B']:\n",
      "        return 0\n",
      "    elif x in ['C', 'D']:\n",
      "        return 1\n",
      "    elif x in ['E', 'F', 'G']:\n",
      "        return 2\n",
      "    else:\n",
      "        return np.nan\n",
      "\n",
      "loanStats['grade_category'] = loanStats.grade.apply(grade_cat_map)"
     ],
     "language": "python",
     "metadata": {},
     "outputs": [],
     "prompt_number": 15
    }
   ],
   "metadata": {}
  }
 ]
}